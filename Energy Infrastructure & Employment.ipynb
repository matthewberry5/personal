{
 "cells": [
  {
   "cell_type": "markdown",
   "metadata": {},
   "source": [
    "# U.S. Energy Infrastructure and Employment Rates"
   ]
  },
  {
   "cell_type": "markdown",
   "metadata": {},
   "source": [
    "Big Idea: \n",
    " - Analyze regional trends over time in coal, oil, and renewable infrastructure\n",
    " - Analyze employment trends over time in these regions\n",
    " - Produce visualizations of these two trends to identify any correlation"
   ]
  },
  {
   "cell_type": "code",
   "execution_count": 23,
   "metadata": {},
   "outputs": [],
   "source": [
    "import pandas as pd\n",
    "from typing import List\n",
    "import matplotlib.pyplot as plt\n",
    "%matplotlib inline\n",
    "import seaborn as sns"
   ]
  },
  {
   "cell_type": "markdown",
   "metadata": {},
   "source": [
    "#### First, let's import and plot coal production data by state."
   ]
  },
  {
   "cell_type": "code",
   "execution_count": 282,
   "metadata": {},
   "outputs": [
    {
     "data": {
      "text/html": [
       "<div>\n",
       "<style scoped>\n",
       "    .dataframe tbody tr th:only-of-type {\n",
       "        vertical-align: middle;\n",
       "    }\n",
       "\n",
       "    .dataframe tbody tr th {\n",
       "        vertical-align: top;\n",
       "    }\n",
       "\n",
       "    .dataframe thead th {\n",
       "        text-align: right;\n",
       "    }\n",
       "</style>\n",
       "<table border=\"1\" class=\"dataframe\">\n",
       "  <thead>\n",
       "    <tr style=\"text-align: right;\">\n",
       "      <th></th>\n",
       "      <th>State</th>\n",
       "      <th>2001</th>\n",
       "      <th>2002</th>\n",
       "      <th>2003</th>\n",
       "      <th>2004</th>\n",
       "      <th>2005</th>\n",
       "      <th>2006</th>\n",
       "      <th>2007</th>\n",
       "      <th>2008</th>\n",
       "      <th>2009</th>\n",
       "      <th>2010</th>\n",
       "      <th>2011</th>\n",
       "      <th>2012</th>\n",
       "      <th>2013</th>\n",
       "      <th>2014</th>\n",
       "      <th>2015</th>\n",
       "      <th>2016</th>\n",
       "      <th>2017</th>\n",
       "      <th>2018</th>\n",
       "      <th>2019</th>\n",
       "    </tr>\n",
       "  </thead>\n",
       "  <tbody>\n",
       "    <tr>\n",
       "      <th>0</th>\n",
       "      <td>US-AK</td>\n",
       "      <td>1514241.0</td>\n",
       "      <td>1145713.0</td>\n",
       "      <td>1081323.0</td>\n",
       "      <td>1511787.0</td>\n",
       "      <td>1454014.0</td>\n",
       "      <td>1425023.0</td>\n",
       "      <td>1323560.0</td>\n",
       "      <td>1477015.0</td>\n",
       "      <td>1860363.0</td>\n",
       "      <td>2151094.0</td>\n",
       "      <td>2148926.0</td>\n",
       "      <td>2052086.0</td>\n",
       "      <td>1631584.0</td>\n",
       "      <td>1501758.0</td>\n",
       "      <td>1177390.0</td>\n",
       "      <td>932122.0</td>\n",
       "      <td>959068.0</td>\n",
       "      <td>901641.0</td>\n",
       "      <td>974702.0</td>\n",
       "    </tr>\n",
       "    <tr>\n",
       "      <th>1</th>\n",
       "      <td>US-AL</td>\n",
       "      <td>19363851.0</td>\n",
       "      <td>18931293.0</td>\n",
       "      <td>20117555.0</td>\n",
       "      <td>22270612.0</td>\n",
       "      <td>21338682.0</td>\n",
       "      <td>18829862.0</td>\n",
       "      <td>19327303.0</td>\n",
       "      <td>20611379.0</td>\n",
       "      <td>18796190.0</td>\n",
       "      <td>19914940.0</td>\n",
       "      <td>19071050.0</td>\n",
       "      <td>19321139.0</td>\n",
       "      <td>18620017.0</td>\n",
       "      <td>16362945.0</td>\n",
       "      <td>13190832.0</td>\n",
       "      <td>9642974.0</td>\n",
       "      <td>12860658.0</td>\n",
       "      <td>14783117.0</td>\n",
       "      <td>14124189.0</td>\n",
       "    </tr>\n",
       "    <tr>\n",
       "      <th>2</th>\n",
       "      <td>US-AR</td>\n",
       "      <td>14362.0</td>\n",
       "      <td>13783.0</td>\n",
       "      <td>7564.0</td>\n",
       "      <td>7328.0</td>\n",
       "      <td>2563.0</td>\n",
       "      <td>22752.0</td>\n",
       "      <td>82677.0</td>\n",
       "      <td>69181.0</td>\n",
       "      <td>4638.0</td>\n",
       "      <td>32301.0</td>\n",
       "      <td>133347.0</td>\n",
       "      <td>98121.0</td>\n",
       "      <td>58578.0</td>\n",
       "      <td>93989.0</td>\n",
       "      <td>91462.0</td>\n",
       "      <td>49415.0</td>\n",
       "      <td>42738.0</td>\n",
       "      <td>NaN</td>\n",
       "      <td>NaN</td>\n",
       "    </tr>\n",
       "    <tr>\n",
       "      <th>3</th>\n",
       "      <td>US-AZ</td>\n",
       "      <td>13417524.0</td>\n",
       "      <td>12804057.0</td>\n",
       "      <td>12059094.0</td>\n",
       "      <td>12730829.0</td>\n",
       "      <td>12071576.0</td>\n",
       "      <td>8216255.0</td>\n",
       "      <td>7982584.0</td>\n",
       "      <td>8024973.0</td>\n",
       "      <td>7474029.0</td>\n",
       "      <td>7752277.0</td>\n",
       "      <td>8110942.0</td>\n",
       "      <td>7493276.0</td>\n",
       "      <td>7602722.0</td>\n",
       "      <td>8050607.0</td>\n",
       "      <td>6804555.0</td>\n",
       "      <td>5422850.0</td>\n",
       "      <td>6221392.0</td>\n",
       "      <td>6550417.0</td>\n",
       "      <td>3842508.0</td>\n",
       "    </tr>\n",
       "    <tr>\n",
       "      <th>4</th>\n",
       "      <td>US-CA</td>\n",
       "      <td>NaN</td>\n",
       "      <td>NaN</td>\n",
       "      <td>NaN</td>\n",
       "      <td>NaN</td>\n",
       "      <td>NaN</td>\n",
       "      <td>NaN</td>\n",
       "      <td>NaN</td>\n",
       "      <td>NaN</td>\n",
       "      <td>NaN</td>\n",
       "      <td>NaN</td>\n",
       "      <td>NaN</td>\n",
       "      <td>NaN</td>\n",
       "      <td>NaN</td>\n",
       "      <td>NaN</td>\n",
       "      <td>NaN</td>\n",
       "      <td>NaN</td>\n",
       "      <td>NaN</td>\n",
       "      <td>NaN</td>\n",
       "      <td>NaN</td>\n",
       "    </tr>\n",
       "  </tbody>\n",
       "</table>\n",
       "</div>"
      ],
      "text/plain": [
       "   State        2001        2002        2003        2004        2005  \\\n",
       "0  US-AK   1514241.0   1145713.0   1081323.0   1511787.0   1454014.0   \n",
       "1  US-AL  19363851.0  18931293.0  20117555.0  22270612.0  21338682.0   \n",
       "2  US-AR     14362.0     13783.0      7564.0      7328.0      2563.0   \n",
       "3  US-AZ  13417524.0  12804057.0  12059094.0  12730829.0  12071576.0   \n",
       "4  US-CA         NaN         NaN         NaN         NaN         NaN   \n",
       "\n",
       "         2006        2007        2008        2009        2010        2011  \\\n",
       "0   1425023.0   1323560.0   1477015.0   1860363.0   2151094.0   2148926.0   \n",
       "1  18829862.0  19327303.0  20611379.0  18796190.0  19914940.0  19071050.0   \n",
       "2     22752.0     82677.0     69181.0      4638.0     32301.0    133347.0   \n",
       "3   8216255.0   7982584.0   8024973.0   7474029.0   7752277.0   8110942.0   \n",
       "4         NaN         NaN         NaN         NaN         NaN         NaN   \n",
       "\n",
       "         2012        2013        2014        2015       2016        2017  \\\n",
       "0   2052086.0   1631584.0   1501758.0   1177390.0   932122.0    959068.0   \n",
       "1  19321139.0  18620017.0  16362945.0  13190832.0  9642974.0  12860658.0   \n",
       "2     98121.0     58578.0     93989.0     91462.0    49415.0     42738.0   \n",
       "3   7493276.0   7602722.0   8050607.0   6804555.0  5422850.0   6221392.0   \n",
       "4         NaN         NaN         NaN         NaN        NaN         NaN   \n",
       "\n",
       "         2018        2019  \n",
       "0    901641.0    974702.0  \n",
       "1  14783117.0  14124189.0  \n",
       "2         NaN         NaN  \n",
       "3   6550417.0   3842508.0  \n",
       "4         NaN         NaN  "
      ]
     },
     "execution_count": 282,
     "metadata": {},
     "output_type": "execute_result"
    }
   ],
   "source": [
    "coal = pd.read_csv('personal/data/coal_prod.csv', skiprows=5)\n",
    "coal.head()"
   ]
  },
  {
   "cell_type": "code",
   "execution_count": 82,
   "metadata": {},
   "outputs": [],
   "source": [
    "coal.set_index('State', inplace=True)"
   ]
  },
  {
   "cell_type": "markdown",
   "metadata": {},
   "source": [
    "Plot coal production in 21st century."
   ]
  },
  {
   "cell_type": "code",
   "execution_count": 88,
   "metadata": {},
   "outputs": [
    {
     "data": {
      "text/plain": [
       "<matplotlib.axes._subplots.AxesSubplot at 0x2388b31c940>"
      ]
     },
     "execution_count": 88,
     "metadata": {},
     "output_type": "execute_result"
    },
    {
     "data": {
      "image/png": "[encoded data removed]",
      "text/plain": [
       "<Figure size 432x288 with 1 Axes>"
      ]
     },
     "metadata": {
      "needs_background": "light"
     },
     "output_type": "display_data"
    }
   ],
   "source": [
    "coal_total = coal.iloc[51]\n",
    "plt.title(\"Trend in U.S. Coal Production 2001-2019\")\n",
    "plt.xlabel(\"Year\")\n",
    "plt.ylabel(\"Short Tons\")\n",
    "coal_total.plot()"
   ]
  },
  {
   "cell_type": "markdown",
   "metadata": {},
   "source": [
    "Show share of coal production by state."
   ]
  },
  {
   "cell_type": "code",
   "execution_count": 288,
   "metadata": {},
   "outputs": [],
   "source": [
    "coal_last = coal.loc[:, ['State', '2019']]\n",
    "last_state: List[str] = coal_last['State']\n",
    "last_prod: List[float] = coal_last['2019']"
   ]
  },
  {
   "cell_type": "code",
   "execution_count": 289,
   "metadata": {
    "scrolled": false
   },
   "outputs": [
    {
     "data": {
      "text/plain": [
       "705817598.0"
      ]
     },
     "execution_count": 289,
     "metadata": {},
     "output_type": "execute_result"
    }
   ],
   "source": [
    "last_prod.pop(51)  # Delete total U.S. total to aid in visualization."
   ]
  },
  {
   "cell_type": "code",
   "execution_count": 278,
   "metadata": {
    "scrolled": false
   },
   "outputs": [
    {
     "data": {
      "image/png": "[encoded data removed]",
      "text/plain": [
       "<Figure size 432x288 with 1 Axes>"
      ]
     },
     "metadata": {},
     "output_type": "display_data"
    }
   ],
   "source": [
    "plt.title(\"Pcnt Share of 2019 Coal Production by State\")\n",
    "last_prod.plot(kind='pie', labels=last_state, rotatelabels=False, center=(0,-10))\n",
    "plt.show()"
   ]
  }
 ],
 "metadata": {
  "kernelspec": {
   "display_name": "Python 3",
   "language": "python",
   "name": "python3"
  },
  "language_info": {
   "codemirror_mode": {
    "name": "ipython",
    "version": 3
   },
   "file_extension": ".py",
   "mimetype": "text/x-python",
   "name": "python",
   "nbconvert_exporter": "python",
   "pygments_lexer": "ipython3",
   "version": "3.8.3"
  }
 },
 "nbformat": 4,
 "nbformat_minor": 4
}
