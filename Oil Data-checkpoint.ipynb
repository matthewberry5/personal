{
 "cells": [
  {
   "cell_type": "markdown",
   "metadata": {},
   "source": [
    "# Analyzing Relationship Between Crude Oil Production, Drilling, and Prices"
   ]
  },
  {
   "cell_type": "code",
   "execution_count": 16,
   "metadata": {},
   "outputs": [],
   "source": [
    "import pandas as pd\n",
    "from typing import List\n",
    "import matplotlib.pyplot as plt\n",
    "%matplotlib inline"
   ]
  },
  {
   "cell_type": "code",
   "execution_count": 17,
   "metadata": {},
   "outputs": [],
   "source": [
    "df = pd.read_excel('personal/data/crude_oil.xlsx', skiprows=2)"
   ]
  },
  {
   "cell_type": "code",
   "execution_count": 18,
   "metadata": {},
   "outputs": [
    {
     "data": {
      "text/html": [
       "<div>\n",
       "<style scoped>\n",
       "    .dataframe tbody tr th:only-of-type {\n",
       "        vertical-align: middle;\n",
       "    }\n",
       "\n",
       "    .dataframe tbody tr th {\n",
       "        vertical-align: top;\n",
       "    }\n",
       "\n",
       "    .dataframe thead th {\n",
       "        text-align: right;\n",
       "    }\n",
       "</style>\n",
       "<table border=\"1\" class=\"dataframe\">\n",
       "  <thead>\n",
       "    <tr style=\"text-align: right;\">\n",
       "      <th></th>\n",
       "      <th>Date</th>\n",
       "      <th>Production</th>\n",
       "      <th>Rigs</th>\n",
       "      <th>WTI_price</th>\n",
       "      <th>prod_change</th>\n",
       "      <th>rig_change</th>\n",
       "      <th>price_change</th>\n",
       "    </tr>\n",
       "  </thead>\n",
       "  <tbody>\n",
       "    <tr>\n",
       "      <th>0</th>\n",
       "      <td>2020-01-01</td>\n",
       "      <td>395399.0</td>\n",
       "      <td>791.0</td>\n",
       "      <td>57.52</td>\n",
       "      <td>NaN</td>\n",
       "      <td>NaN</td>\n",
       "      <td>NaN</td>\n",
       "    </tr>\n",
       "    <tr>\n",
       "      <th>1</th>\n",
       "      <td>2020-02-01</td>\n",
       "      <td>369622.0</td>\n",
       "      <td>790.0</td>\n",
       "      <td>50.54</td>\n",
       "      <td>-0.065192</td>\n",
       "      <td>-0.001264</td>\n",
       "      <td>-0.121349</td>\n",
       "    </tr>\n",
       "    <tr>\n",
       "      <th>2</th>\n",
       "      <td>2020-03-01</td>\n",
       "      <td>394849.0</td>\n",
       "      <td>771.0</td>\n",
       "      <td>29.21</td>\n",
       "      <td>0.068251</td>\n",
       "      <td>-0.024051</td>\n",
       "      <td>-0.422042</td>\n",
       "    </tr>\n",
       "    <tr>\n",
       "      <th>3</th>\n",
       "      <td>2020-04-01</td>\n",
       "      <td>360299.0</td>\n",
       "      <td>565.0</td>\n",
       "      <td>16.55</td>\n",
       "      <td>-0.087502</td>\n",
       "      <td>-0.267185</td>\n",
       "      <td>-0.433413</td>\n",
       "    </tr>\n",
       "    <tr>\n",
       "      <th>4</th>\n",
       "      <td>2020-05-01</td>\n",
       "      <td>310582.0</td>\n",
       "      <td>348.0</td>\n",
       "      <td>28.56</td>\n",
       "      <td>-0.137988</td>\n",
       "      <td>-0.384071</td>\n",
       "      <td>0.725680</td>\n",
       "    </tr>\n",
       "    <tr>\n",
       "      <th>5</th>\n",
       "      <td>2020-06-01</td>\n",
       "      <td>313264.0</td>\n",
       "      <td>274.0</td>\n",
       "      <td>38.31</td>\n",
       "      <td>0.008635</td>\n",
       "      <td>-0.212644</td>\n",
       "      <td>0.341387</td>\n",
       "    </tr>\n",
       "    <tr>\n",
       "      <th>6</th>\n",
       "      <td>2020-07-01</td>\n",
       "      <td>340152.0</td>\n",
       "      <td>255.0</td>\n",
       "      <td>40.71</td>\n",
       "      <td>0.085832</td>\n",
       "      <td>-0.069343</td>\n",
       "      <td>0.062647</td>\n",
       "    </tr>\n",
       "    <tr>\n",
       "      <th>7</th>\n",
       "      <td>2020-08-01</td>\n",
       "      <td>328099.0</td>\n",
       "      <td>250.0</td>\n",
       "      <td>42.34</td>\n",
       "      <td>-0.035434</td>\n",
       "      <td>-0.019608</td>\n",
       "      <td>0.040039</td>\n",
       "    </tr>\n",
       "    <tr>\n",
       "      <th>8</th>\n",
       "      <td>2020-09-01</td>\n",
       "      <td>326114.0</td>\n",
       "      <td>NaN</td>\n",
       "      <td>39.63</td>\n",
       "      <td>-0.006050</td>\n",
       "      <td>NaN</td>\n",
       "      <td>-0.064006</td>\n",
       "    </tr>\n",
       "    <tr>\n",
       "      <th>9</th>\n",
       "      <td>2020-10-01</td>\n",
       "      <td>323387.0</td>\n",
       "      <td>NaN</td>\n",
       "      <td>39.40</td>\n",
       "      <td>-0.008362</td>\n",
       "      <td>NaN</td>\n",
       "      <td>-0.005804</td>\n",
       "    </tr>\n",
       "    <tr>\n",
       "      <th>10</th>\n",
       "      <td>2020-11-01</td>\n",
       "      <td>333721.0</td>\n",
       "      <td>NaN</td>\n",
       "      <td>40.94</td>\n",
       "      <td>0.031956</td>\n",
       "      <td>NaN</td>\n",
       "      <td>0.039086</td>\n",
       "    </tr>\n",
       "    <tr>\n",
       "      <th>11</th>\n",
       "      <td>2020-12-01</td>\n",
       "      <td>NaN</td>\n",
       "      <td>NaN</td>\n",
       "      <td>47.02</td>\n",
       "      <td>NaN</td>\n",
       "      <td>NaN</td>\n",
       "      <td>0.148510</td>\n",
       "    </tr>\n",
       "  </tbody>\n",
       "</table>\n",
       "</div>"
      ],
      "text/plain": [
       "         Date  Production   Rigs  WTI_price  prod_change  rig_change  \\\n",
       "0  2020-01-01    395399.0  791.0      57.52          NaN         NaN   \n",
       "1  2020-02-01    369622.0  790.0      50.54    -0.065192   -0.001264   \n",
       "2  2020-03-01    394849.0  771.0      29.21     0.068251   -0.024051   \n",
       "3  2020-04-01    360299.0  565.0      16.55    -0.087502   -0.267185   \n",
       "4  2020-05-01    310582.0  348.0      28.56    -0.137988   -0.384071   \n",
       "5  2020-06-01    313264.0  274.0      38.31     0.008635   -0.212644   \n",
       "6  2020-07-01    340152.0  255.0      40.71     0.085832   -0.069343   \n",
       "7  2020-08-01    328099.0  250.0      42.34    -0.035434   -0.019608   \n",
       "8  2020-09-01    326114.0    NaN      39.63    -0.006050         NaN   \n",
       "9  2020-10-01    323387.0    NaN      39.40    -0.008362         NaN   \n",
       "10 2020-11-01    333721.0    NaN      40.94     0.031956         NaN   \n",
       "11 2020-12-01         NaN    NaN      47.02          NaN         NaN   \n",
       "\n",
       "    price_change  \n",
       "0            NaN  \n",
       "1      -0.121349  \n",
       "2      -0.422042  \n",
       "3      -0.433413  \n",
       "4       0.725680  \n",
       "5       0.341387  \n",
       "6       0.062647  \n",
       "7       0.040039  \n",
       "8      -0.064006  \n",
       "9      -0.005804  \n",
       "10      0.039086  \n",
       "11      0.148510  "
      ]
     },
     "execution_count": 18,
     "metadata": {},
     "output_type": "execute_result"
    }
   ],
   "source": [
    "df"
   ]
  },
  {
   "cell_type": "code",
   "execution_count": 13,
   "metadata": {},
   "outputs": [
    {
     "data": {
      "text/plain": [
       "0     395399.0\n",
       "1     369622.0\n",
       "2     394849.0\n",
       "3     360299.0\n",
       "4     310582.0\n",
       "5     313264.0\n",
       "6     340152.0\n",
       "7     328099.0\n",
       "8     326114.0\n",
       "9     323387.0\n",
       "10    333721.0\n",
       "11         NaN\n",
       "Name: Production, dtype: float64"
      ]
     },
     "execution_count": 13,
     "metadata": {},
     "output_type": "execute_result"
    }
   ],
   "source": [
    "prod = df.Production\n",
    "prod"
   ]
  },
  {
   "cell_type": "markdown",
   "metadata": {},
   "source": [
    "Show simple plot of Oil production in 2020. "
   ]
  },
  {
   "cell_type": "code",
   "execution_count": 15,
   "metadata": {},
   "outputs": [
    {
     "data": {
      "text/plain": [
       "<matplotlib.axes._subplots.AxesSubplot at 0x1ed27035c10>"
      ]
     },
     "execution_count": 15,
     "metadata": {},
     "output_type": "execute_result"
    },
    {
     "data": {
      "image/png": "[encoded data removed]",
      "text/plain": [
       "<Figure size 432x288 with 1 Axes>"
      ]
     },
     "metadata": {
      "needs_background": "light"
     },
     "output_type": "display_data"
    }
   ],
   "source": [
    "prod.plot()"
   ]
  },
  {
   "cell_type": "markdown",
   "metadata": {},
   "source": [
    "Establish variables that contain a list of m/m % change in each indicator in 2020. "
   ]
  },
  {
   "cell_type": "code",
   "execution_count": 35,
   "metadata": {},
   "outputs": [
    {
     "data": {
      "text/plain": [
       "0          NaN\n",
       "1    -0.065192\n",
       "2     0.068251\n",
       "3    -0.087502\n",
       "4    -0.137988\n",
       "5     0.008635\n",
       "6     0.085832\n",
       "7    -0.035434\n",
       "8    -0.006050\n",
       "9    -0.008362\n",
       "10    0.031956\n",
       "11         NaN\n",
       "Name: prod_change, dtype: float64"
      ]
     },
     "execution_count": 35,
     "metadata": {},
     "output_type": "execute_result"
    }
   ],
   "source": [
    "prod_change = df.prod_change\n",
    "price_change = df.price_change\n",
    "rig_change = df.rig_change\n",
    "date = df.Date\n",
    "prod_change"
   ]
  },
  {
   "cell_type": "markdown",
   "metadata": {},
   "source": [
    "Plot variables to show relationship between monthly changes in price, production, and drilling. "
   ]
  },
  {
   "cell_type": "code",
   "execution_count": 39,
   "metadata": {},
   "outputs": [
    {
     "data": {
      "image/png": "[encoded data removed]",
      "text/plain": [
       "<Figure size 432x288 with 1 Axes>"
      ]
     },
     "metadata": {
      "needs_background": "light"
     },
     "output_type": "display_data"
    }
   ],
   "source": [
    "plt.plot(date, prod_change, label='Production')\n",
    "plt.plot(date, price_change, label='WTI Price')\n",
    "plt.plot(date, rig_change, label = 'Operating Rotary Rigs')\n",
    "plt.legend()\n",
    "plt.title('M/M Percentange Change in Key Oil Indicators')\n",
    "plt.show()"
   ]
  }
 ],
 "metadata": {
  "kernelspec": {
   "display_name": "Python 3",
   "language": "python",
   "name": "python3"
  },
  "language_info": {
   "codemirror_mode": {
    "name": "ipython",
    "version": 3
   },
   "file_extension": ".py",
   "mimetype": "text/x-python",
   "name": "python",
   "nbconvert_exporter": "python",
   "pygments_lexer": "ipython3",
   "version": "3.8.3"
  }
 },
 "nbformat": 4,
 "nbformat_minor": 4
}
